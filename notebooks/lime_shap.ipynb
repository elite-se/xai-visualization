{
 "cells": [
  {
   "cell_type": "code",
   "execution_count": 1,
   "metadata": {
    "scrolled": true
   },
   "outputs": [],
   "source": [
    "import numpy as np\n",
    "import shap\n",
    "from xai_visualization.util.load_data import feature_names\n",
    "from xai_visualization.util.load_data import load_features\n",
    "from xai_visualization.util.load_data import load_features\n",
    "import tensorflow as tf\n",
    "import pickle\n",
    "import lime\n",
    "import matplotlib.pyplot as plt"
   ]
  },
  {
   "cell_type": "code",
   "execution_count": 2,
   "metadata": {
    "scrolled": true
   },
   "outputs": [
    {
     "name": "stdout",
     "output_type": "stream",
     "text": [
      "WARNING:tensorflow:From /home/max/anaconda3/envs/tf/lib/python3.7/site-packages/tensorflow_core/python/ops/init_ops.py:97: calling GlorotUniform.__init__ (from tensorflow.python.ops.init_ops) with dtype is deprecated and will be removed in a future version.\n",
      "Instructions for updating:\n",
      "Call initializer instance with the dtype argument instead of passing it to the constructor\n",
      "WARNING:tensorflow:From /home/max/anaconda3/envs/tf/lib/python3.7/site-packages/tensorflow_core/python/ops/init_ops.py:97: calling Zeros.__init__ (from tensorflow.python.ops.init_ops) with dtype is deprecated and will be removed in a future version.\n",
      "Instructions for updating:\n",
      "Call initializer instance with the dtype argument instead of passing it to the constructor\n",
      "WARNING:tensorflow:From /home/max/anaconda3/envs/tf/lib/python3.7/site-packages/tensorflow_core/python/ops/resource_variable_ops.py:1630: calling BaseResourceVariable.__init__ (from tensorflow.python.ops.resource_variable_ops) with constraint is deprecated and will be removed in a future version.\n",
      "Instructions for updating:\n",
      "If using Keras pass *_constraint arguments to layers.\n"
     ]
    }
   ],
   "source": [
    "guy_features = load_features(\"../data/korpus_no_video/001_2016-03-17_Paris\", 'novice')\n",
    "model = tf.keras.models.load_model(\"../models/test_1.15\")\n",
    "probability_model = tf.keras.Sequential([model, tf.keras.layers.Softmax()])"
   ]
  },
  {
   "cell_type": "code",
   "execution_count": 3,
   "metadata": {
    "scrolled": true
   },
   "outputs": [],
   "source": [
    "def explain(model, samples):\n",
    "    background_dataset =  guy_features[:1000]\n",
    "    #explainer = shap.GradientExplainer(model, background_dataset)\n",
    "    #explainer = shap.KernelExplainer(model, background_dataset) # Also not working\n",
    "    explainer = shap.DeepExplainer(model, background_dataset) # Currently is not supported in TF2: https://github.com/slundberg/shap/issues/885#issuecomment-564778328\n",
    "    shap_values = explainer.shap_values(samples)\n",
    "\n",
    "    return shap_values\n"
   ]
  },
  {
   "cell_type": "code",
   "execution_count": 4,
   "metadata": {
    "scrolled": true
   },
   "outputs": [
    {
     "name": "stdout",
     "output_type": "stream",
     "text": [
      "26601\n"
     ]
    }
   ],
   "source": [
    "print(len(guy_features))"
   ]
  },
  {
   "cell_type": "markdown",
   "metadata": {},
   "source": [
    "## Experiment with SHAP"
   ]
  },
  {
   "cell_type": "code",
   "execution_count": 5,
   "metadata": {
    "scrolled": true
   },
   "outputs": [
    {
     "name": "stdout",
     "output_type": "stream",
     "text": [
      "WARNING:tensorflow:From /home/max/anaconda3/envs/tf/lib/python3.7/site-packages/shap/explainers/tf_utils.py:28: The name tf.keras.backend.get_session is deprecated. Please use tf.compat.v1.keras.backend.get_session instead.\n",
      "\n",
      "WARNING:tensorflow:From /home/max/anaconda3/envs/tf/lib/python3.7/site-packages/shap/explainers/deep/deep_tf.py:604: where (from tensorflow.python.ops.array_ops) is deprecated and will be removed in a future version.\n",
      "Instructions for updating:\n",
      "Use tf.where in 2.0, which has the same broadcast rule as np.where\n"
     ]
    }
   ],
   "source": [
    "data_explain = guy_features[0:30]\n",
    "shap_values = explain(model, data_explain)"
   ]
  },
  {
   "cell_type": "code",
   "execution_count": null,
   "metadata": {},
   "outputs": [],
   "source": []
  },
  {
   "cell_type": "code",
   "execution_count": 6,
   "metadata": {},
   "outputs": [],
   "source": [
    "classes = np.argmax(probability_model.predict(np.array(data_explain)), axis=1)"
   ]
  },
  {
   "cell_type": "code",
   "execution_count": 7,
   "metadata": {},
   "outputs": [
    {
     "data": {
      "text/plain": [
       "array([2, 2, 2, 2, 2, 2, 2, 2, 2, 2, 2, 2, 2, 2, 2, 2, 2, 2, 2, 2, 2, 2,\n",
       "       2, 2, 2, 2, 2, 2, 2, 2])"
      ]
     },
     "execution_count": 7,
     "metadata": {},
     "output_type": "execute_result"
    }
   ],
   "source": [
    "classes"
   ]
  },
  {
   "cell_type": "code",
   "execution_count": 8,
   "metadata": {},
   "outputs": [
    {
     "data": {
      "text/plain": [
       "(4, 30, 18)"
      ]
     },
     "execution_count": 8,
     "metadata": {},
     "output_type": "execute_result"
    }
   ],
   "source": [
    "np.array(shap_values).shape"
   ]
  },
  {
   "cell_type": "code",
   "execution_count": 9,
   "metadata": {
    "scrolled": true
   },
   "outputs": [],
   "source": [
    "#np.array(shap_values).transpose(1,0,2)[,:,:].shape"
   ]
  },
  {
   "cell_type": "code",
   "execution_count": 10,
   "metadata": {},
   "outputs": [
    {
     "data": {
      "text/plain": [
       "<matplotlib.legend.Legend at 0x7f45e4096b50>"
      ]
     },
     "execution_count": 10,
     "metadata": {},
     "output_type": "execute_result"
    },
    {
     "data": {
      "image/png": "[encoded data removed]",
      "text/plain": [
       "<Figure size 432x288 with 1 Axes>"
      ]
     },
     "metadata": {
      "needs_background": "light"
     },
     "output_type": "display_data"
    }
   ],
   "source": [
    "for i in range(4):\n",
    "    data = np.array(shap_values)[i][29]\n",
    "    plt.bar(range(18), data)\n",
    "plt.legend(range(4))"
   ]
  },
  {
   "cell_type": "code",
   "execution_count": 11,
   "metadata": {
    "scrolled": true
   },
   "outputs": [],
   "source": [
    "#hap.summary_plot(\n",
    "#    shap_values, data_explain, \n",
    "#    class_names=[str(i) for i in range(18)],\n",
    "#    feature_names=feature_names\n",
    "#)"
   ]
  },
  {
   "cell_type": "code",
   "execution_count": 12,
   "metadata": {
    "scrolled": false
   },
   "outputs": [],
   "source": [
    "#for samples in np.array_split(guy_features, len(guy_features)/30):\n",
    "#    print(samples.shape)\n",
    "#    shap_values = explain(model, np.array(samples))\n",
    "#    shap.summary_plot(\n",
    "#        shap_values, samples, \n",
    "#        class_names=[str(i) for i in range(18)],\n",
    "#        feature_names=feature_names\n",
    "#    )"
   ]
  },
  {
   "cell_type": "markdown",
   "metadata": {},
   "source": [
    "## Experiment with LIME"
   ]
  },
  {
   "cell_type": "code",
   "execution_count": 13,
   "metadata": {
    "scrolled": true
   },
   "outputs": [],
   "source": [
    "explainer = lime.lime_tabular.LimeTabularExplainer(guy_features, feature_names=feature_names, discretize_continuous=False)"
   ]
  },
  {
   "cell_type": "code",
   "execution_count": 14,
   "metadata": {},
   "outputs": [],
   "source": [
    "#exp = explainer.explain_instance(guy_features[0], probability_model.predict, top_labels=4,num_features=18)\n",
    "#exp.show_in_notebook(show_table=True, show_all=True)"
   ]
  },
  {
   "cell_type": "code",
   "execution_count": 15,
   "metadata": {},
   "outputs": [],
   "source": [
    "exp = explainer.explain_instance(guy_features[0], probability_model.predict, top_labels=4, num_features=18)"
   ]
  },
  {
   "cell_type": "code",
   "execution_count": 21,
   "metadata": {},
   "outputs": [
    {
     "data": {
      "text/plain": [
       "{'random_state': None,\n",
       " 'mode': 'classification',\n",
       " 'domain_mapper': <lime.lime_tabular.TableDomainMapper at 0x7f45dc10e850>,\n",
       " 'local_exp': {0: [(16, -0.2201965960560032),\n",
       "   (13, -0.037265470973486564),\n",
       "   (3, 0.03324057094337969),\n",
       "   (17, 0.023271585779284364),\n",
       "   (9, 0.017291573697072415),\n",
       "   (4, 0.015770564817301356),\n",
       "   (0, -0.01478564099518787),\n",
       "   (10, 0.013808642604731304),\n",
       "   (5, -0.012085262108403412),\n",
       "   (14, -0.011938274269605403),\n",
       "   (8, -0.010577022351678227),\n",
       "   (2, 0.01010579830069351),\n",
       "   (7, 0.010035927538908168),\n",
       "   (11, 0.00895295639921294),\n",
       "   (6, -0.007391015361992907),\n",
       "   (1, 0.0040597620951785575),\n",
       "   (15, 0.00313864526898505),\n",
       "   (12, 0.000539515750947748)],\n",
       "  3: [(16, 0.11940299818328062),\n",
       "   (13, 0.07899544957887061),\n",
       "   (3, -0.0586348100632139),\n",
       "   (2, 0.057035310050090195),\n",
       "   (14, 0.048228550023805154),\n",
       "   (6, 0.03706085962716449),\n",
       "   (7, 0.03410439901910436),\n",
       "   (11, -0.03005255301983947),\n",
       "   (5, 0.02806189662974789),\n",
       "   (17, 0.023380377027499434),\n",
       "   (8, 0.02323890020609547),\n",
       "   (9, 0.01594989043649027),\n",
       "   (4, -0.012241440987005255),\n",
       "   (1, -0.008975312844848366),\n",
       "   (15, 0.006940477012181208),\n",
       "   (10, -0.001478000677667553),\n",
       "   (0, 0.0010317192693361195),\n",
       "   (12, -0.0008802417369953516)],\n",
       "  1: [(3, 0.06903913723234026),\n",
       "   (16, 0.058299810804236095),\n",
       "   (2, -0.05361716509904968),\n",
       "   (13, -0.05127178202402766),\n",
       "   (7, -0.042131775871972234),\n",
       "   (0, -0.038133624221660584),\n",
       "   (5, -0.03758575797041414),\n",
       "   (10, 0.0369463339201547),\n",
       "   (6, -0.035461951834673655),\n",
       "   (8, -0.033371279371730546),\n",
       "   (11, 0.028711270464250416),\n",
       "   (12, 0.024033835492119647),\n",
       "   (14, -0.018442700284456603),\n",
       "   (9, 0.012052837555216578),\n",
       "   (4, 0.010172699370989522),\n",
       "   (1, -0.008221597812463793),\n",
       "   (15, -0.007641880690851914),\n",
       "   (17, -0.0034841984342547194)],\n",
       "  2: [(0, 0.051887545524706744),\n",
       "   (10, -0.0492769735312229),\n",
       "   (9, -0.04529430029623402),\n",
       "   (3, -0.04364489795844777),\n",
       "   (17, -0.04316776389980153),\n",
       "   (16, 0.04249378559706699),\n",
       "   (12, -0.023693109738516273),\n",
       "   (5, 0.021609125719364602),\n",
       "   (8, 0.020709400751884776),\n",
       "   (14, -0.017847575521201118),\n",
       "   (4, -0.013701822626343662),\n",
       "   (2, -0.01352394396678784),\n",
       "   (1, 0.013137150119962459),\n",
       "   (13, 0.009541802784704703),\n",
       "   (11, -0.007611673470730291),\n",
       "   (6, 0.005792106830358151),\n",
       "   (15, -0.002437240535474534),\n",
       "   (7, -0.002008550570528476)]},\n",
       " 'intercept': {0: 0.14218623875005565,\n",
       "  3: 0.21086661021786524,\n",
       "  1: 0.1726402799638565,\n",
       "  2: 0.47430686942358125},\n",
       " 'score': 0.18254027162675168,\n",
       " 'local_pred': array([0.43625215]),\n",
       " 'class_names': ['0', '1', '2', '3'],\n",
       " 'top_labels': [2, 1, 3, 0],\n",
       " 'predict_proba': array([0.02890471, 0.26961166, 0.6576622 , 0.04382139], dtype=float32)}"
      ]
     },
     "execution_count": 21,
     "metadata": {},
     "output_type": "execute_result"
    }
   ],
   "source": [
    "exp.__dict__"
   ]
  },
  {
   "cell_type": "code",
   "execution_count": 17,
   "metadata": {},
   "outputs": [
    {
     "data": {
      "text/plain": [
       "<matplotlib.legend.Legend at 0x7f45e4087dd0>"
      ]
     },
     "execution_count": 17,
     "metadata": {},
     "output_type": "execute_result"
    },
    {
     "data": {
      "image/png": "[encoded data removed]",
      "text/plain": [
       "<Figure size 432x288 with 1 Axes>"
      ]
     },
     "metadata": {
      "needs_background": "light"
     },
     "output_type": "display_data"
    }
   ],
   "source": [
    "for i in range(4):\n",
    "    explanations = np.array(exp.local_exp[i])\n",
    "    indices = explanations[:,0].astype(int)\n",
    "    explanations = explanations[:,1][np.argsort(indices)]\n",
    "\n",
    "    plt.bar(range(18), explanations)\n",
    "plt.legend(range(4))"
   ]
  },
  {
   "cell_type": "code",
   "execution_count": 18,
   "metadata": {},
   "outputs": [
    {
     "ename": "IndexError",
     "evalue": "too many indices for array",
     "output_type": "error",
     "traceback": [
      "\u001b[0;31m---------------------------------------------------------------------------\u001b[0m",
      "\u001b[0;31mIndexError\u001b[0m                                Traceback (most recent call last)",
      "\u001b[0;32m<ipython-input-18-13a53126a2f8>\u001b[0m in \u001b[0;36m<module>\u001b[0;34m\u001b[0m\n\u001b[1;32m      1\u001b[0m \u001b[0mexplanations\u001b[0m \u001b[0;34m=\u001b[0m \u001b[0mnp\u001b[0m\u001b[0;34m.\u001b[0m\u001b[0marray\u001b[0m\u001b[0;34m(\u001b[0m\u001b[0mexp\u001b[0m\u001b[0;34m.\u001b[0m\u001b[0mlocal_exp\u001b[0m\u001b[0;34m)\u001b[0m\u001b[0;34m\u001b[0m\u001b[0;34m\u001b[0m\u001b[0m\n\u001b[0;32m----> 2\u001b[0;31m \u001b[0mindices\u001b[0m \u001b[0;34m=\u001b[0m \u001b[0mexplanations\u001b[0m\u001b[0;34m[\u001b[0m\u001b[0;34m:\u001b[0m\u001b[0;34m,\u001b[0m\u001b[0;36m0\u001b[0m\u001b[0;34m]\u001b[0m\u001b[0;34m.\u001b[0m\u001b[0mastype\u001b[0m\u001b[0;34m(\u001b[0m\u001b[0mint\u001b[0m\u001b[0;34m)\u001b[0m\u001b[0;34m\u001b[0m\u001b[0;34m\u001b[0m\u001b[0m\n\u001b[0m\u001b[1;32m      3\u001b[0m \u001b[0mexplanations\u001b[0m\u001b[0;34m[\u001b[0m\u001b[0;34m:\u001b[0m\u001b[0;34m,\u001b[0m\u001b[0;36m1\u001b[0m\u001b[0;34m]\u001b[0m\u001b[0;34m[\u001b[0m\u001b[0mnp\u001b[0m\u001b[0;34m.\u001b[0m\u001b[0margsort\u001b[0m\u001b[0;34m(\u001b[0m\u001b[0mindices\u001b[0m\u001b[0;34m)\u001b[0m\u001b[0;34m]\u001b[0m\u001b[0;34m\u001b[0m\u001b[0;34m\u001b[0m\u001b[0m\n",
      "\u001b[0;31mIndexError\u001b[0m: too many indices for array"
     ]
    }
   ],
   "source": [
    "explanations = np.array(exp.local_exp)\n",
    "indices = explanations[:,0].astype(int)\n",
    "explanations[:,1][np.argsort(indices)]"
   ]
  },
  {
   "cell_type": "code",
   "execution_count": null,
   "metadata": {},
   "outputs": [],
   "source": [
    "\n",
    "#explanations[:,:,1][0][indices[0]]"
   ]
  },
  {
   "cell_type": "code",
   "execution_count": null,
   "metadata": {
    "scrolled": false
   },
   "outputs": [],
   "source": [
    "#for sample in guy_features:\n",
    "#    print(\"Predicting\")\n",
    "#    exp= explainer.explain_instance(sample, probability_model.predict, top_labels=4,num_features=18)\n",
    "#    exp.show_in_notebook(show_table=True, show_all=True)"
   ]
  }
 ],
 "metadata": {
  "kernelspec": {
   "display_name": "Python 3",
   "language": "python",
   "name": "python3"
  },
  "language_info": {
   "codemirror_mode": {
    "name": "ipython",
    "version": 3
   },
   "file_extension": ".py",
   "mimetype": "text/x-python",
   "name": "python",
   "nbconvert_exporter": "python",
   "pygments_lexer": "ipython3",
   "version": "3.7.7"
  }
 },
 "nbformat": 4,
 "nbformat_minor": 4
}
