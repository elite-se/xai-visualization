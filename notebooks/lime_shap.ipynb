{
 "cells": [
  {
   "cell_type": "code",
   "execution_count": 1,
   "metadata": {
    "scrolled": true
   },
   "outputs": [],
   "source": [
    "import numpy as np\n",
    "import shap\n",
    "from xai_visualization.util.load_data import feature_names\n",
    "from xai_visualization.util.load_data import load_features\n",
    "from xai_visualization.util.load_data import load_features\n",
    "import tensorflow as tf\n",
    "import pickle\n",
    "import lime\n",
    "import matplotlib.pyplot as plt"
   ]
  },
  {
   "cell_type": "code",
   "execution_count": 13,
   "metadata": {
    "scrolled": true
   },
   "outputs": [],
   "source": [
    "guy_features = load_features(\"../data/korpus_no_video/001_2016-03-17_Paris\", 'novice')\n",
    "model = tf.keras.models.load_model(\"../models/test_1.15\")\n",
    "probability_model = tf.keras.Sequential([model, tf.keras.layers.Softmax()])"
   ]
  },
  {
   "cell_type": "code",
   "execution_count": 19,
   "metadata": {
    "scrolled": true
   },
   "outputs": [],
   "source": [
    "def explain(model, samples):\n",
    "    background_dataset =  guy_features[:1000]\n",
    "    #explainer = shap.GradientExplainer(model, background_dataset)\n",
    "    #explainer = shap.KernelExplainer(model, background_dataset) # Also not working\n",
    "    explainer = shap.DeepExplainer(model, background_dataset) # Currently is not supported in TF2: https://github.com/slundberg/shap/issues/885#issuecomment-564778328\n",
    "    shap_values = explainer.shap_values(samples)\n",
    "\n",
    "    return shap_values\n"
   ]
  },
  {
   "cell_type": "code",
   "execution_count": 4,
   "metadata": {
    "scrolled": true
   },
   "outputs": [
    {
     "name": "stdout",
     "output_type": "stream",
     "text": [
      "26601\n"
     ]
    }
   ],
   "source": [
    "print(len(guy_features))"
   ]
  },
  {
   "cell_type": "markdown",
   "metadata": {},
   "source": [
    "## Experiment with SHAP"
   ]
  },
  {
   "cell_type": "code",
   "execution_count": 30,
   "metadata": {
    "scrolled": true
   },
   "outputs": [],
   "source": [
    "data_explain = guy_features[0:30]\n",
    "shap_values = explain(model, data_explain)"
   ]
  },
  {
   "cell_type": "code",
   "execution_count": 16,
   "metadata": {},
   "outputs": [
    {
     "data": {
      "text/html": [
       "[array([[ 5.88146746e-01,  6.22900903e-01,  2.34340932e-02,\n",
       "        -2.64946848e-01, -1.17097087e-02,  1.00773528e-01,\n",
       "         3.34681384e-02, -1.58500671e-02, -8.43364447e-02,\n",
       "        -8.55033174e-02, -1.18397988e-01, -3.95787433e-02,\n",
       "        -5.29145934e-02, -7.92576075e-02,  4.18951452e-01,\n",
       "         5.72647667e-04, -1.84926271e-01,  8.82679671e-02]]), array([[-0.05661558, -0.28782639,  0.04254473, -0.53363991, -0.00606498,\n",
       "         0.17098583,  0.22178146, -0.20028229, -0.19947015,  0.05473651,\n",
       "        -0.0420519 , -0.22194009, -0.03087678, -0.25731996, -0.20348875,\n",
       "         0.00115012, -0.49137631, -0.09240606]]), array([[-2.90586650e-01, -3.60064149e-01, -9.53221868e-04,\n",
       "         8.98449868e-02,  5.05351927e-03, -3.43377031e-02,\n",
       "        -3.88211175e-03, -3.19344597e-03,  2.87844688e-02,\n",
       "         4.11661901e-02,  5.29951602e-02,  8.13271478e-03,\n",
       "         2.32124440e-02,  9.04984958e-03, -1.25589594e-01,\n",
       "         7.49769097e-05, -1.35889731e-03, -6.13195002e-02]]), array([[-0.22529934,  0.04237202, -0.067224  ,  0.79140061,  0.01182051,\n",
       "        -0.26455963, -0.29178008,  0.25442499,  0.29186711, -0.01093994,\n",
       "         0.12057737,  0.28433844,  0.07093975,  0.31956872, -0.07418194,\n",
       "        -0.0019381 ,  0.71471477,  0.07065129]])]"
      ],
      "text/plain": [
       "[array([[ 5.88146746e-01,  6.22900903e-01,  2.34340932e-02,\n",
       "         -2.64946848e-01, -1.17097087e-02,  1.00773528e-01,\n",
       "          3.34681384e-02, -1.58500671e-02, -8.43364447e-02,\n",
       "         -8.55033174e-02, -1.18397988e-01, -3.95787433e-02,\n",
       "         -5.29145934e-02, -7.92576075e-02,  4.18951452e-01,\n",
       "          5.72647667e-04, -1.84926271e-01,  8.82679671e-02]]),\n",
       " array([[-0.05661558, -0.28782639,  0.04254473, -0.53363991, -0.00606498,\n",
       "          0.17098583,  0.22178146, -0.20028229, -0.19947015,  0.05473651,\n",
       "         -0.0420519 , -0.22194009, -0.03087678, -0.25731996, -0.20348875,\n",
       "          0.00115012, -0.49137631, -0.09240606]]),\n",
       " array([[-2.90586650e-01, -3.60064149e-01, -9.53221868e-04,\n",
       "          8.98449868e-02,  5.05351927e-03, -3.43377031e-02,\n",
       "         -3.88211175e-03, -3.19344597e-03,  2.87844688e-02,\n",
       "          4.11661901e-02,  5.29951602e-02,  8.13271478e-03,\n",
       "          2.32124440e-02,  9.04984958e-03, -1.25589594e-01,\n",
       "          7.49769097e-05, -1.35889731e-03, -6.13195002e-02]]),\n",
       " array([[-0.22529934,  0.04237202, -0.067224  ,  0.79140061,  0.01182051,\n",
       "         -0.26455963, -0.29178008,  0.25442499,  0.29186711, -0.01093994,\n",
       "          0.12057737,  0.28433844,  0.07093975,  0.31956872, -0.07418194,\n",
       "         -0.0019381 ,  0.71471477,  0.07065129]])]"
      ]
     },
     "execution_count": 16,
     "metadata": {},
     "output_type": "execute_result"
    }
   ],
   "source": []
  },
  {
   "cell_type": "code",
   "execution_count": 23,
   "metadata": {},
   "outputs": [],
   "source": [
    "classes = np.argmax(probability_model.predict(np.array(data_explain)), axis=1)"
   ]
  },
  {
   "cell_type": "code",
   "execution_count": 24,
   "metadata": {},
   "outputs": [
    {
     "data": {
      "text/plain": [
       "array([2, 2, 2, 2, 2, 2, 2, 2, 2, 2, 2, 2, 2, 2, 2, 2, 2, 2, 2, 2, 2, 2,\n",
       "       2, 2, 2, 2, 2, 2, 2, 2])"
      ]
     },
     "execution_count": 24,
     "metadata": {},
     "output_type": "execute_result"
    }
   ],
   "source": [
    "classes"
   ]
  },
  {
   "cell_type": "code",
   "execution_count": 7,
   "metadata": {},
   "outputs": [
    {
     "data": {
      "text/plain": [
       "(4, 1, 18)"
      ]
     },
     "execution_count": 7,
     "metadata": {},
     "output_type": "execute_result"
    }
   ],
   "source": [
    "np.array(shap_values).shape"
   ]
  },
  {
   "cell_type": "code",
   "execution_count": 272,
   "metadata": {
    "scrolled": true
   },
   "outputs": [],
   "source": [
    "#np.array(shap_values).transpose(1,0,2)[,:,:].shape"
   ]
  },
  {
   "cell_type": "code",
   "execution_count": 31,
   "metadata": {},
   "outputs": [
    {
     "data": {
      "text/plain": [
       "<matplotlib.legend.Legend at 0x7f243d030910>"
      ]
     },
     "execution_count": 31,
     "metadata": {},
     "output_type": "execute_result"
    },
    {
     "data": {
      "image/png": "[encoded data removed]",
      "text/plain": [
       "<Figure size 432x288 with 1 Axes>"
      ]
     },
     "metadata": {
      "needs_background": "light"
     },
     "output_type": "display_data"
    }
   ],
   "source": [
    "for i in range(4):\n",
    "    data = np.array(shap_values)[i][29]\n",
    "    plt.bar(range(18), data)\n",
    "plt.legend(range(4))"
   ]
  },
  {
   "cell_type": "code",
   "execution_count": 279,
   "metadata": {
    "scrolled": true
   },
   "outputs": [],
   "source": [
    "#hap.summary_plot(\n",
    "#    shap_values, data_explain, \n",
    "#    class_names=[str(i) for i in range(18)],\n",
    "#    feature_names=feature_names\n",
    "#)"
   ]
  },
  {
   "cell_type": "code",
   "execution_count": 277,
   "metadata": {
    "scrolled": false
   },
   "outputs": [],
   "source": [
    "#for samples in np.array_split(guy_features, len(guy_features)/30):\n",
    "#    print(samples.shape)\n",
    "#    shap_values = explain(model, np.array(samples))\n",
    "#    shap.summary_plot(\n",
    "#        shap_values, samples, \n",
    "#        class_names=[str(i) for i in range(18)],\n",
    "#        feature_names=feature_names\n",
    "#    )"
   ]
  },
  {
   "cell_type": "markdown",
   "metadata": {},
   "source": [
    "## Experiment with LIME"
   ]
  },
  {
   "cell_type": "code",
   "execution_count": 247,
   "metadata": {
    "scrolled": true
   },
   "outputs": [],
   "source": [
    "explainer = lime.lime_tabular.LimeTabularExplainer(guy_features, feature_names=feature_names, discretize_continuous=False)"
   ]
  },
  {
   "cell_type": "code",
   "execution_count": 278,
   "metadata": {},
   "outputs": [],
   "source": [
    "#exp = explainer.explain_instance(guy_features[0], probability_model.predict, top_labels=4,num_features=18)\n",
    "#exp.show_in_notebook(show_table=True, show_all=True)"
   ]
  },
  {
   "cell_type": "code",
   "execution_count": 250,
   "metadata": {},
   "outputs": [],
   "source": [
    "exp = explainer.explain_instance(guy_features[0], probability_model.predict, top_labels=4,num_features=18)"
   ]
  },
  {
   "cell_type": "code",
   "execution_count": 275,
   "metadata": {},
   "outputs": [
    {
     "data": {
      "text/plain": [
       "array([0.02890471, 0.26961166, 0.6576622 , 0.04382139], dtype=float32)"
      ]
     },
     "execution_count": 275,
     "metadata": {},
     "output_type": "execute_result"
    }
   ],
   "source": [
    "exp.predict_proba"
   ]
  },
  {
   "cell_type": "code",
   "execution_count": 259,
   "metadata": {},
   "outputs": [
    {
     "data": {
      "text/plain": [
       "<matplotlib.legend.Legend at 0x7f1b3062d250>"
      ]
     },
     "execution_count": 259,
     "metadata": {},
     "output_type": "execute_result"
    },
    {
     "data": {
      "image/png": "[encoded data removed]",
      "text/plain": [
       "<Figure size 432x288 with 1 Axes>"
      ]
     },
     "metadata": {
      "needs_background": "light"
     },
     "output_type": "display_data"
    }
   ],
   "source": [
    "for i in range(4):\n",
    "    explanations = np.array(exp.local_exp[i])\n",
    "    indices = explanations[:,0].astype(int)\n",
    "    explanations = explanations[:,1][np.argsort(indices)]\n",
    "\n",
    "    plt.bar(range(18), explanations)\n",
    "plt.legend(range(4))"
   ]
  },
  {
   "cell_type": "code",
   "execution_count": 249,
   "metadata": {
    "scrolled": false
   },
   "outputs": [],
   "source": [
    "#for sample in guy_features:\n",
    "#    print(\"Predicting\")\n",
    "#    exp= explainer.explain_instance(sample, probability_model.predict, top_labels=4,num_features=18)\n",
    "#    exp.show_in_notebook(show_table=True, show_all=True)"
   ]
  }
 ],
 "metadata": {
  "kernelspec": {
   "display_name": "Python 3",
   "language": "python",
   "name": "python3"
  },
  "language_info": {
   "codemirror_mode": {
    "name": "ipython",
    "version": 3
   },
   "file_extension": ".py",
   "mimetype": "text/x-python",
   "name": "python",
   "nbconvert_exporter": "python",
   "pygments_lexer": "ipython3",
   "version": "3.7.7"
  }
 },
 "nbformat": 4,
 "nbformat_minor": 4
}
